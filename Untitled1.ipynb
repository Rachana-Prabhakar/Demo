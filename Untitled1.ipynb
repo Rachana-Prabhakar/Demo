{
  "nbformat": 4,
  "nbformat_minor": 0,
  "metadata": {
    "colab": {
      "provenance": [],
      "authorship_tag": "ABX9TyPfZiwQ9otvwjCEHqORoC+3",
      "include_colab_link": true
    },
    "kernelspec": {
      "name": "python3",
      "display_name": "Python 3"
    },
    "language_info": {
      "name": "python"
    }
  },
  "cells": [
    {
      "cell_type": "markdown",
      "metadata": {
        "id": "view-in-github",
        "colab_type": "text"
      },
      "source": [
        "<a href=\"https://colab.research.google.com/github/Rachana-Prabhakar/Demo/blob/main/Untitled1.ipynb\" target=\"_parent\"><img src=\"https://colab.research.google.com/assets/colab-badge.svg\" alt=\"Open In Colab\"/></a>"
      ]
    },
    {
      "cell_type": "code",
      "execution_count": 6,
      "metadata": {
        "colab": {
          "base_uri": "https://localhost:8080/"
        },
        "id": "IM0m3xGbkOxz",
        "outputId": "8dbb16aa-b8e8-49cb-fe2e-ef623489dfaf"
      },
      "outputs": [
        {
          "output_type": "stream",
          "name": "stdout",
          "text": [
            "Action\tPercepts\n",
            "Suck \t [('A', 'Dirty')]\n",
            "Right \t [('A', 'Dirty'), ('A', 'Clean')]\n",
            "None \t [('A', 'Dirty'), ('A', 'Clean'), ('B', 'Clean')]\n"
          ]
        }
      ],
      "source": [
        "loc_A=\"A\"\n",
        "loc_B=\"B\"\n",
        "percepts=[]\n",
        "table = {((loc_A, 'Clean'),): 'Right',\n",
        "((loc_A, 'Dirty'),): 'Suck',\n",
        "((loc_B, 'Clean'),): 'Left',\n",
        "((loc_B, 'Dirty'),): 'Suck',\n",
        "((loc_A, 'Dirty'), (loc_A, 'Clean')):'Right',\n",
        "((loc_A, 'Clean'), (loc_B, 'Dirty')):'Suck',\n",
        "((loc_B, 'Clean'), (loc_A, 'Dirty')):'Suck',\n",
        "((loc_B, 'Dirty'), (loc_B, 'Clean')):'Left',\n",
        "((loc_A, 'Dirty'), (loc_A, 'Clean'), (loc_B, 'Dirty')): 'Suck',\n",
        "((loc_B, 'Dirty'), (loc_B, 'Clean'), (loc_A, 'Dirty')): 'Suck'}\n",
        "def LOOKUP(percepts,table):\n",
        "  action=table.get(tuple(percepts))\n",
        "  return action\n",
        "def TABLE_DRIVEN_AGENT(percept):\n",
        "  percepts.append(percept)\n",
        "  action=LOOKUP(percepts, table)\n",
        "  return action\n",
        "def run():\n",
        "  print('Action\\tPercepts')\n",
        "  print(TABLE_DRIVEN_AGENT((loc_A,'Dirty')),'\\t',percepts)\n",
        "  print(TABLE_DRIVEN_AGENT((loc_A,'Clean')),'\\t',percepts)\n",
        "  print(TABLE_DRIVEN_AGENT((loc_B,'Clean')),'\\t',percepts)\n",
        "run()"
      ]
    }
  ]
}